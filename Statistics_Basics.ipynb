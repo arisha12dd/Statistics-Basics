{
  "nbformat": 4,
  "nbformat_minor": 0,
  "metadata": {
    "colab": {
      "provenance": []
    },
    "kernelspec": {
      "name": "python3",
      "display_name": "Python 3"
    },
    "language_info": {
      "name": "python"
    }
  },
  "cells": [
    {
      "cell_type": "markdown",
      "source": [
        "1. What is statistics, and why is it important?\n",
        "\n",
        " Statistics is the study of collecting and analyzing data. It helps us make smart decisions based on facts.\n",
        "\n"
      ],
      "metadata": {
        "id": "jlwYmkEWVsnz"
      }
    },
    {
      "cell_type": "markdown",
      "source": [
        "2. What are the two main types of statistics?\n",
        "\n",
        "Descriptive statistics\n",
        "\n",
        "Inferential statistics\n",
        "\n"
      ],
      "metadata": {
        "id": "bt8Jyc52Vskf"
      }
    },
    {
      "cell_type": "markdown",
      "source": [
        "3. What are descriptive statistics?\n",
        "\n",
        "They describe and summarize data using numbers, tables, and charts.\n",
        "\n"
      ],
      "metadata": {
        "id": "PLZ8cSk6VscT"
      }
    },
    {
      "cell_type": "markdown",
      "source": [
        "4. What is inferential statistics?\n",
        "\n",
        " It helps make predictions about a big group using data from a small group (sample).\n",
        "\n"
      ],
      "metadata": {
        "id": "mXFdtwPZVsVo"
      }
    },
    {
      "cell_type": "markdown",
      "source": [
        "5. What is sampling in statistics?\n",
        "\n",
        " Sampling means choosing a small part (sample) from a larger group (population) to study.\n",
        "\n"
      ],
      "metadata": {
        "id": "KMWN_ji2VsH9"
      }
    },
    {
      "cell_type": "markdown",
      "source": [
        "6. What are the different types of sampling method ?\n",
        "\n",
        "Random sampling\n",
        "\n",
        "Stratified sampling\n",
        "\n",
        "Systematic sampling\n",
        "\n",
        "Cluster sampling\n",
        "\n",
        "Convenience sampling\n",
        "\n"
      ],
      "metadata": {
        "id": "ya_ippyWXSQF"
      }
    },
    {
      "cell_type": "markdown",
      "source": [
        "7. What is the difference between random and non-random sampling?\n",
        "\n",
        "Random sampling: Everyone has an equal chance to be chosen.\n",
        "\n",
        "Non-random sampling: Some have more or less chance of being chosen.\n",
        "\n"
      ],
      "metadata": {
        "id": "mWeNVKkkXSGA"
      }
    },
    {
      "cell_type": "markdown",
      "source": [
        "8. Define and give examples of qualitative and quantitative data.\n",
        "\n",
        "Qualitative: Describes qualities (e.g., color, gender)\n",
        "\n",
        "Quantitative: Uses numbers (e.g., age, weight)\n",
        "\n"
      ],
      "metadata": {
        "id": "I9-74Z9yYZMB"
      }
    },
    {
      "cell_type": "markdown",
      "source": [
        "9. What are the different types of data in statistics?\n",
        "\n",
        "Qualitative data (categorical)\n",
        "\n",
        "Quantitative data (numerical)\n",
        "\n",
        "10. Explain nominal, ordinal, interval, and ratio levels of measurement.\n",
        "\n",
        "Nominal: Categories only (e.g., blood type)\n",
        "\n",
        "Ordinal: Categories with order (e.g., ranks)\n",
        "\n",
        "Interval: Numbers with equal gaps, no true zero (e.g., temperature)\n",
        "\n",
        "Ratio: Numbers with true zero (e.g., height, weight)\n",
        "\n",
        "11. What is the measure of central tendency?\n",
        " It tells the center or average value in a data set.\n",
        "\n",
        "12. Define mean, median, and mode.\n",
        "\n",
        "Mean: Average\n",
        "\n",
        "Median: Middle value\n",
        "\n",
        "Mode: Most frequent value\n",
        "\n"
      ],
      "metadata": {
        "id": "JZyceuvoYkWi"
      }
    },
    {
      "cell_type": "markdown",
      "source": [
        "13. What is the significance of the measure of central tendency?\n",
        " It helps find the most typical or common value in data.\n",
        "\n",
        "14. What is variance, and how is it calculated?\n",
        " Variance shows how much the data values differ from the average. It is the average of squared differences from the mean.\n",
        "\n",
        "15. What is skewness in a dataset?\n",
        " Skewness shows if data is lopsided.\n",
        "\n",
        "Positive skew: more small values\n",
        "\n",
        "Negative skew: more large valu"
      ],
      "metadata": {
        "id": "yeCnmWGgaQ56"
      }
    },
    {
      "cell_type": "markdown",
      "source": [
        "16. What is standard deviation, and why is it important?\n",
        "\n",
        " It shows how spread out the data is from the mean. A smaller value means more consistent data.\n",
        "\n"
      ],
      "metadata": {
        "id": "qspoUidKaQ2m"
      }
    },
    {
      "cell_type": "markdown",
      "source": [
        "17. Define and explain the term range in statistics.\n",
        "\n",
        " Range = Highest value − Lowest value. It shows the spread of the data.\n",
        "\n"
      ],
      "metadata": {
        "id": "ZIGGM91saQzV"
      }
    },
    {
      "cell_type": "markdown",
      "source": [
        "18. What is the difference between variance and standard deviation?\n",
        "\n",
        "\n",
        "Variance: Average of squared differences from the mean\n",
        "\n",
        "Standard deviation: Square root of variance\n",
        "\n"
      ],
      "metadata": {
        "id": "xiruFVjQau0C"
      }
    },
    {
      "cell_type": "markdown",
      "source": [
        "19. What does it mean if a dataset is positively or negatively skewed?\n",
        "\n",
        "Positively skewed: Tail on the right, more low values\n",
        "\n",
        "Negatively skewed: Tail on the left, more high values\n",
        "\n",
        "20. Define and explain kurtosis.\n",
        "\n",
        " Kurtosis tells how sharp or flat the peak of the data is compared to a normal curve.\n",
        "\n",
        "21. What is the purpose of covariance?\n",
        "\n",
        "Covariance shows how two variables move together (but not how strong the link is).\n",
        "\n",
        "22. What does correlation measure in statistics?\n",
        " Correlation measures how strong and in what direction two variables are related.\n",
        "\n",
        "23. What is the difference between covariance and correlation?\n",
        "\n",
        "\n",
        "Covariance: Shows direction (positive or negative)\n",
        "\n",
        "Correlation: Shows direction and strength (between -1 and +1)\n",
        "\n",
        "\n",
        "\n"
      ],
      "metadata": {
        "id": "IeY8MK5xbAEN"
      }
    },
    {
      "cell_type": "markdown",
      "source": [
        "24. What are some real-world applications of statistics?\n",
        "\n",
        "Health: Tracking diseases\n",
        "\n",
        "Business: Analyzing sales\n",
        "\n",
        "Education: Exam result analysis\n",
        "\n",
        "Sports: Player performance\n",
        "\n",
        "Government: Planning policies"
      ],
      "metadata": {
        "id": "DXan6avCa_xR"
      }
    },
    {
      "cell_type": "code",
      "source": [
        "1. How do you calculate the mean, median, and mode of a dataset?\n",
        "\n",
        "import numpy as np\n",
        "from scipy import stats\n",
        "\n",
        "data = [12, 15, 12, 18, 19, 12, 20]\n",
        "\n",
        "mean = np.mean(data)\n",
        "median = np.median(data)\n",
        "mode = stats.mode(data, keepdims=False)\n",
        "\n",
        "print(\"Mean:\", mean)\n",
        "print(\"Median:\", median)\n",
        "print(\"Mode:\", mode.mode)\n"
      ],
      "metadata": {
        "id": "l4DfWF3nYxfj"
      },
      "execution_count": null,
      "outputs": []
    },
    {
      "cell_type": "code",
      "source": [
        "2. Write a Python program to compute the variance and standard deviation of a dataset?\n",
        "\n",
        "import numpy as np\n",
        "\n",
        "data = [10, 12, 23, 23, 16, 23, 21, 16]\n",
        "\n",
        "variance = np.var(data, ddof=1)\n",
        "std_dev = np.std(data, ddof=1)\n",
        "\n",
        "print(\"Variance:\", variance)\n",
        "print(\"Standard Deviation:\", std_dev)\n"
      ],
      "metadata": {
        "id": "_kmnp351YxcA"
      },
      "execution_count": null,
      "outputs": []
    },
    {
      "cell_type": "code",
      "source": [
        "3. Create a dataset and classify it into nominal, ordinal, interval, and ratio types?\n",
        "\n",
        "# Nominal: categories with no order\n",
        "colors = [\"red\", \"blue\", \"green\"]\n",
        "\n",
        "# Ordinal: categories with order\n",
        "education = [\"High School\", \"Bachelor's\", \"Master's\", \"PhD\"]\n",
        "\n",
        "# Interval: numeric, no true zero\n",
        "temperature = [30, 22, 25, 27]  # in Celsius\n",
        "\n",
        "# Ratio: numeric, true zero exists\n",
        "weight = [55.0, 62.5, 70.0]"
      ],
      "metadata": {
        "id": "q4ETbsLjYxVf"
      },
      "execution_count": null,
      "outputs": []
    },
    {
      "cell_type": "code",
      "source": [
        "4. Implement sampling techniques like random sampling and stratified sampling?\n",
        "\n",
        "import pandas as pd\n",
        "from sklearn.model_selection import train_test_split\n",
        "\n",
        "df = pd.DataFrame({\n",
        "    'Gender': ['M', 'F', 'M', 'F', 'M', 'F', 'M', 'F'],\n",
        "    'Score': [70, 80, 75, 65, 85, 90, 60, 55]\n",
        "})\n",
        "\n",
        "# Random Sampling\n",
        "random_sample = df.sample(n=4, random_state=1)\n",
        "print(\"Random Sample:\\n\", random_sample)\n",
        "\n",
        "# Stratified Sampling\n",
        "train, _ = train_test_split(df, stratify=df['Gender'], test_size=0.5, random_state=1)\n",
        "print(\"Stratified Sample:\\n\", train)"
      ],
      "metadata": {
        "id": "ann0WkeUYxR9"
      },
      "execution_count": null,
      "outputs": []
    },
    {
      "cell_type": "code",
      "source": [
        "5. Write a Python function to calculate the range of a dataset?\n",
        "\n",
        "def calculate_range(data):\n",
        "    return max(data) - min(data)\n",
        "\n",
        "sample = [10, 20, 35, 50, 75]\n",
        "print(\"Range:\", calculate_range(sample))"
      ],
      "metadata": {
        "id": "1wgWsuFHYxPS"
      },
      "execution_count": null,
      "outputs": []
    },
    {
      "cell_type": "code",
      "source": [
        "6. Create a dataset and plot its histogram to visualize skewness?\n",
        "\n",
        "import matplotlib.pyplot as plt\n",
        "\n",
        "data = [10, 12, 14, 15, 18, 30, 50, 80]\n",
        "plt.hist(data, bins=5, edgecolor='black')\n",
        "plt.title(\"Histogram to Visualize Skewness\")\n",
        "plt.xlabel(\"Value\")\n",
        "plt.ylabel(\"Frequency\")\n",
        "plt.show()\n",
        "7. Calculate skewness and kurtosis of a dataset using Python libraries?\n",
        "\n",
        "from scipy.stats import skew, kurtosis\n",
        "\n",
        "data = [10, 20, 30, 40, 100]\n",
        "\n",
        "print(\"Skewness:\", skew(data))\n",
        "print(\"Kurtosis:\", kurtosis(data))\n"
      ],
      "metadata": {
        "id": "xhHNr1VYYxMZ"
      },
      "execution_count": null,
      "outputs": []
    },
    {
      "cell_type": "code",
      "source": [
        "8. Generate a dataset and demonstrate positive and negative skewness?\n",
        "\n",
        "import seaborn as sns\n",
        "\n",
        "positive_skew = [10, 15, 18, 22, 25, 30, 100]\n",
        "negative_skew = [100, 80, 75, 70, 50, 45, 10]\n",
        "\n",
        "sns.histplot(positive_skew, kde=True)\n",
        "plt.title(\"Positive Skewness\")\n",
        "plt.show()\n",
        "\n",
        "sns.histplot(negative_skew, kde=True)\n",
        "plt.title(\"Negative Skewness\")\n",
        "plt.show()\n"
      ],
      "metadata": {
        "id": "Zf3666MgYxGX"
      },
      "execution_count": null,
      "outputs": []
    },
    {
      "cell_type": "code",
      "source": [
        "9. Write a Python script to calculate covariance between two datasets?\n",
        "\n",
        "import numpy as np\n",
        "\n",
        "x = [2, 4, 6, 8]\n",
        "y = [1, 3, 2, 5]\n",
        "\n",
        "cov_matrix = np.cov(x, y)\n",
        "print(\"Covariance Matrix:\\n\", cov_matrix)\n"
      ],
      "metadata": {
        "id": "4-LaeWKgYxDc"
      },
      "execution_count": null,
      "outputs": []
    },
    {
      "cell_type": "code",
      "source": [
        "10. Write a Python script to calculate the correlation coefficient between two datasets?\n",
        "\n",
        "x = [2, 4, 6, 8]\n",
        "y = [1, 3, 2, 5]\n",
        "\n",
        "correlation = np.corrcoef(x, y)\n",
        "print(\"Correlation Coefficient Matrix:\\n\", correlation)\n"
      ],
      "metadata": {
        "id": "bGHWAcUzYw-H"
      },
      "execution_count": null,
      "outputs": []
    },
    {
      "cell_type": "code",
      "source": [
        "11. Create a scatter plot to visualize the relationship between two variables?\n",
        "\n",
        "import matplotlib.pyplot as plt\n",
        "\n",
        "x = [2, 4, 6, 8]\n",
        "y = [1, 3, 2, 5]\n",
        "\n",
        "plt.scatter(x, y)\n",
        "plt.title(\"Scatter Plot\")\n",
        "plt.xlabel(\"X\")\n",
        "plt.ylabel(\"Y\")\n",
        "plt.grid(True)\n",
        "plt.show()\n",
        "\n"
      ],
      "metadata": {
        "id": "uJAK0GPiYw7N"
      },
      "execution_count": null,
      "outputs": []
    },
    {
      "cell_type": "code",
      "source": [
        " 12.Implement and compare simple random sampling and systematic sampling\n",
        "   import random\n",
        "import pandas as pd\n",
        "import matplotlib.pyplot as plt\n",
        "\n",
        "# Step 1: Creating a population dataset\n",
        "population = list(range(1, 101))  # Population with values from 1 to 100\n",
        "sample_size = 10  # Desired sample size\n",
        "\n",
        "# Step 2: Simple Random Sampling\n",
        "# Selecting 10 random elements from the population\n",
        "simple_random_sample = random.sample(population, sample_size)\n",
        "\n",
        "# Step 3: Systematic Sampling\n",
        "# Calculating the sampling interval\n",
        "k = len(population) // sample_size\n",
        "# Choosing a random starting index\n",
        "start = random.randint(0, k - 1)\n",
        "# Selecting every k-th element starting from the random index\n",
        "systematic_sample = population[start::k][:sample_size]\n",
        "\n",
        "# Step 4: Printing the samples\n",
        "print(\"Simple Random Sample:\", simple_random_sample)\n",
        "print(\"Systematic Sample:\", systematic_sample)\n",
        "\n",
        "# Step 5: Comparing the samples using box plot\n",
        "df = pd.DataFrame({\n",
        "    \"Simple Random\": simple_random_sample,\n",
        "    \"Systematic\": systematic_sample\n",
        "})\n",
        "\n",
        "df.plot(kind='box', title=\"Comparison of Sampling Methods\", figsize=(8, 4))\n",
        "plt.ylabel(\"Values\")\n",
        "plt.grid(True)\n",
        "plt.show()\n"
      ],
      "metadata": {
        "id": "2rOQvhUnYw4L"
      },
      "execution_count": null,
      "outputs": []
    },
    {
      "cell_type": "code",
      "source": [
        "13.Simulate data using Python and calculate its central tendency and dispersion\n",
        "\n",
        "import numpy as np\n",
        "\n",
        "# Simulating random dataset (e.g. test scores)\n",
        "data = np.random.randint(50, 100, size=30)\n",
        "\n",
        "# Central tendency\n",
        "mean = np.mean(data)\n",
        "median = np.median(data)\n",
        "mode = np.bincount(data).argmax()\n",
        "\n",
        "# Dispersion\n",
        "data_range = np.max(data) - np.min(data)\n",
        "variance = np.var(data)\n",
        "std_dev = np.std(data)\n",
        "\n",
        "print(\"Data:\", data)\n",
        "print(\"Mean:\", mean)\n",
        "print(\"Median:\", median)\n",
        "print(\"Mode:\", mode)\n",
        "print(\"Range:\", data_range)\n",
        "print(\"Variance:\", variance)\n",
        "print(\"Standard Deviation:\", std_dev)"
      ],
      "metadata": {
        "id": "kamVKi7tYwy3"
      },
      "execution_count": null,
      "outputs": []
    },
    {
      "cell_type": "code",
      "source": [
        "14.Plot a boxplot to understand the spread and identify outliers\n",
        "\n",
        "import matplotlib.pyplot as plt\n",
        "\n",
        "plt.boxplot(data)\n",
        "plt.title(\"Boxplot of Simulated Data\")\n",
        "plt.ylabel(\"Values\")\n",
        "plt.grid(True)\n",
        "plt.show()\n"
      ],
      "metadata": {
        "id": "vnr461qichfb"
      },
      "execution_count": null,
      "outputs": []
    },
    {
      "cell_type": "code",
      "source": [
        "15. Calculate the interquartile range (IQR) of a dataset\n",
        "\n",
        "q1 = np.percentile(data, 25)\n",
        "q3 = np.percentile(data, 75)\n",
        "IQR = Q3 - Q1\n",
        "\n",
        "print(\"Q1:\", Q1)\n",
        "print(\"Q3:\", Q3)\n",
        "print(\"Interquartile Range (IQR):\", IQR)\n"
      ],
      "metadata": {
        "id": "ZJKVj6g6chby"
      },
      "execution_count": null,
      "outputs": []
    },
    {
      "cell_type": "code",
      "source": [
        "16.Implement Z-score normalization and explain its significance\n",
        "\n",
        "z_scores = (data - mean) / std_dev\n",
        "print(\"Z-score normalized data:\", np.round(z_scores, 2))\n"
      ],
      "metadata": {
        "id": "x8UZYCZUdV79"
      },
      "execution_count": null,
      "outputs": []
    },
    {
      "cell_type": "code",
      "source": [
        "17.Compare two datasets using their standard deviations\n",
        "\n",
        "data2 = np.random.randint(30, 80, size=30)\n",
        "\n",
        "std1 = np.std(data)\n",
        "std2 = np.std(data2)\n",
        "\n",
        "print(\"Standard Deviation of Dataset 1:\", std1)\n",
        "print(\"Standard Deviation of Dataset 2:\", std2)\n",
        "\n",
        "if std1 > std2:\n",
        "    print(\"Dataset 1 is more spread out\")\n",
        "else:\n",
        "    print(\"Dataset 2 is more spread out\")"
      ],
      "metadata": {
        "id": "WSp2CtpedVwC"
      },
      "execution_count": null,
      "outputs": []
    },
    {
      "cell_type": "code",
      "source": [
        "18.Write a Python program to visualize covariance using a heatmap\n",
        "\n",
        "import seaborn as sns\n",
        "\n",
        "df2 = pd.DataFrame({\n",
        "    'Math': np.random.randint(60, 100, 30),\n",
        "    'Science': np.random.randint(55, 95, 30),\n",
        "    'English': np.random.randint(50, 90, 30)\n",
        "})\n",
        "\n",
        "cov_matrix = df2.cov()\n",
        "\n",
        "sns.heatmap(cov_matrix, annot=True, cmap='coolwarm')\n",
        "plt.title(\"Covariance Heatmap\")\n",
        "plt.show()\n"
      ],
      "metadata": {
        "id": "NwLZp6t2dViv"
      },
      "execution_count": null,
      "outputs": []
    },
    {
      "cell_type": "code",
      "source": [
        "19. Use seaborn to create a correlation matrix for a dataset\n",
        "\n",
        "corr_matrix = df2.corr()\n",
        "\n",
        "sns.heatmap(corr_matrix, annot=True, cmap='YlGnBu')\n",
        "plt.title(\"Correlation Matrix\")\n",
        "plt.show()\n"
      ],
      "metadata": {
        "id": "FAsPwIj-dVVS"
      },
      "execution_count": null,
      "outputs": []
    },
    {
      "cell_type": "code",
      "source": [
        "20.Generate a dataset and implement both variance and standard deviation computations\n",
        "\n",
        "sample = np.random.randint(10, 50, size=15)\n",
        "var = np.var(sample)\n",
        "std = np.std(sample)\n",
        "\n",
        "print(\"Sample Data:\", sample)\n",
        "print(\"Variance:\", var)\n",
        "print(\"Standard Deviation:\", std)\n"
      ],
      "metadata": {
        "id": "MYi_cw7Ld6pa"
      },
      "execution_count": null,
      "outputs": []
    },
    {
      "cell_type": "code",
      "source": [
        "21.Visualize skewness and kurtosis using matplotlib or seaborn\n",
        "\n",
        "from scipy.stats import skew, kurtosis\n",
        "\n",
        "sns.histplot(data, kde=True)\n",
        "plt.title(\"Distribution of Data\")\n",
        "plt.show()\n",
        "\n",
        "print(\"Skewness:\", skew(data))\n",
        "print(\"Kurtosis:\", kurtosis(data))"
      ],
      "metadata": {
        "id": "tbJa0ygUd6Ve"
      },
      "execution_count": null,
      "outputs": []
    },
    {
      "cell_type": "code",
      "source": [
        "22. Implement the Pearson and Spearman correlation coefficients for a dataset\n",
        "\n",
        "from scipy.stats import pearsonr, spearmanr\n",
        "\n",
        "x = np.random.randint(1, 100, 30)\n",
        "y = x + np.random.normal(0, 10, 30)  # Adding noise\n",
        "\n",
        "pearson_corr, _ = pearsonr(x, y)\n",
        "spearman_corr, _ = spearmanr(x, y)\n",
        "\n",
        "print(\"Pearson Correlation:\", pearson_corr)\n",
        "print(\"Spearman Correlation:\", spearman_corr)\n"
      ],
      "metadata": {
        "id": "_nl-1Lh1chWL"
      },
      "execution_count": null,
      "outputs": []
    }
  ]
}